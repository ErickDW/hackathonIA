{
 "cells": [
  {
   "cell_type": "markdown",
   "id": "2e5d26cf-acf9-4453-83c9-bf4d07771948",
   "metadata": {},
   "source": [
    "# Proyecto \"LeanBot\"\n",
    "## Explicación del Diagrama\n",
    "A continuación, se detalla el flujo de trabajo y los componentes clave de tu proyecto, tal como se muestra en el diagrama:\n",
    "### 1. Punto de Entrada: El Usuario y Telegram\n",
    "**Usuario de Telegram:** Es la persona que interactúa con tu bot. Puede enviar mensajes de texto, mensajes de voz o presionar los botones en línea que el bot le presenta.\n",
    "**API de Telegram:** Actúa como el intermediario. Recibe los mensajes del usuario y los reenvía de forma segura a tu aplicación de Python que está en ejecución. También se encarga de entregar las respuestas del bot al usuario.\n",
    "### 2. El Corazón del Bot: Backend en Python\n",
    "Esta es la aplicación principal que escribiste (Hackhaton.ipynb), la cual está constantemente escuchando los mensajes que le llegan desde la API de Telegram.\n",
    "**Aplicación Principal (python-telegram-bot):** Es el orquestador que gestiona las conexiones y dirige cada tipo de mensaje a su manejador correspondiente.\n",
    "**Manejadores (Handlers):**\n",
    "Manejador de Texto: Se activa cuando llega un mensaje de texto.\n",
    "Manejador de Voz: Se activa con un mensaje de voz. Su primera tarea es descargar el audio.\n",
    "Manejador de Botones: Se activa cuando el usuario hace clic en un botón (InlineKeyboardButton).\n",
    "Base de Conocimiento: Antes de procesar cualquier pregunta, el bot consolida su \"cerebro\". Este conocimiento se compone de:\n",
    "La FAQ interna que definiste en la variable FAQ_INGELEAN.\n",
    "El contenido de la web ingelean.com que es extraído al iniciar el bot usando requests y BeautifulSoup.\n",
    "Ambos se combinan en la variable CONOCIMIENTO_INGELEAN.\n",
    "### 3. El Cerebro IA: Servicios de Google Gemini\n",
    "Aquí es donde ocurre la \"magia\". Tu backend se comunica con la API de Google para realizar tareas complejas.\n",
    "**Modelo Speech-to-Text:** Cuando el Manejador de Voz recibe un archivo de audio, lo sube a Gemini para transcribirlo a texto.\n",
    "**Modelo de Lenguaje (gemini-2.0-flash):** Este es el componente central de la lógica. La función process_and_reply:\n",
    "Toma el texto del usuario (ya sea escrito o transcrito).\n",
    "Lo combina con las reglas (el prompt) y la Base de Conocimiento.\n",
    "Envía todo este paquete a Gemini para que lo analice.\n",
    "### 4. El Proceso de Decisión\n",
    "Gemini devuelve una respuesta a tu backend, que la interpreta para decidir qué hacer a continuación:\n",
    "**Flujo 1:** Respuesta Directa: Si Gemini encuentra la respuesta en el contexto que le proporcionaste, la devuelve como texto. Tu bot simplemente reenvía esta respuesta al usuario. (Ej: \"¿Qué es Ingelean?\").\n",
    "**Flujo 2:** Escalado a Asesor (Ventas/Técnico): Si la pregunta del usuario requiere intervención humana (según las reglas de tu prompt), Gemini devuelve la palabra clave ASESOR_VENTAS o ASESOR_TECNICO. Tu código detecta esto y realiza dos acciones:\n",
    "Envía un mensaje al usuario informándole que un asesor se pondrá en contacto.\n",
    "Envía una notificación al chat del Administrador (ADMIN_CHAT_ID) con los detalles de la solicitud.\n",
    "**Flujo 3:** No Sabe la Respuesta: Si Gemini determina que la pregunta no es relevante o no puede responderla (NO_SE_LA_RESPUESTA), tu bot envía un mensaje de ayuda con botones de sugerencia para guiar al usuario.\n",
    "Este ciclo se repite con cada interacción, creando un asistente virtual robusto que puede responder, indagar, resolver y escalar problemas de manera eficiente."
   ]
  },
  {
   "cell_type": "code",
   "execution_count": null,
   "id": "cf46f3f8-1b7a-4dac-8bcf-a426ab43307c",
   "metadata": {},
   "outputs": [],
   "source": []
  }
 ],
 "metadata": {
  "kernelspec": {
   "display_name": "Python 3 (ipykernel)",
   "language": "python",
   "name": "python3"
  },
  "language_info": {
   "codemirror_mode": {
    "name": "ipython",
    "version": 3
   },
   "file_extension": ".py",
   "mimetype": "text/x-python",
   "name": "python",
   "nbconvert_exporter": "python",
   "pygments_lexer": "ipython3",
   "version": "3.12.9"
  }
 },
 "nbformat": 4,
 "nbformat_minor": 5
}
